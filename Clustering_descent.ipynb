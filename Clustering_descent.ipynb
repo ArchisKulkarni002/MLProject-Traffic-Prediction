{
 "cells": [
  {
   "cell_type": "code",
   "execution_count": 143,
   "metadata": {},
   "outputs": [],
   "source": [
    "# importing required packages\n",
    "\n",
    "import pandas as pd\n",
    "import numpy as np\n",
    "import seaborn as sns\n",
    "import matplotlib.pyplot as plt\n",
    "%matplotlib inline\n",
    "import warnings\n",
    "warnings.filterwarnings(action = 'ignore')"
   ]
  },
  {
   "cell_type": "code",
   "execution_count": 144,
   "metadata": {},
   "outputs": [],
   "source": [
    "def heading(info):\n",
    "    print(\"\\n\\n##### {} #####\".format(info))"
   ]
  },
  {
   "cell_type": "code",
   "execution_count": 145,
   "metadata": {},
   "outputs": [],
   "source": [
    "# read the dataset\n",
    "dataSet = pd.read_csv('Banglore_traffic_Dataset.csv', encoding = 'unicode_escape')"
   ]
  },
  {
   "cell_type": "code",
   "execution_count": 146,
   "metadata": {},
   "outputs": [
    {
     "name": "stdout",
     "output_type": "stream",
     "text": [
      "<class 'pandas.core.frame.DataFrame'>\n",
      "RangeIndex: 8936 entries, 0 to 8935\n",
      "Data columns (total 16 columns):\n",
      " #   Column                              Non-Null Count  Dtype  \n",
      "---  ------                              --------------  -----  \n",
      " 0   Date                                8936 non-null   object \n",
      " 1   Area Name                           8936 non-null   object \n",
      " 2   Road/Intersection Name              8936 non-null   object \n",
      " 3   Traffic Volume                      8936 non-null   int64  \n",
      " 4   Average Speed                       8936 non-null   float64\n",
      " 5   Travel Time Index                   8936 non-null   float64\n",
      " 6   Congestion Level                    8936 non-null   float64\n",
      " 7   Road Capacity Utilization           8936 non-null   float64\n",
      " 8   Incident Reports                    8936 non-null   int64  \n",
      " 9   Environmental Impact                8936 non-null   float64\n",
      " 10  Public Transport Usage              8936 non-null   float64\n",
      " 11  Traffic Signal Compliance           8936 non-null   float64\n",
      " 12  Parking Usage                       8936 non-null   float64\n",
      " 13  Pedestrian and Cyclist Count        8936 non-null   int64  \n",
      " 14  Weather Conditions                  8936 non-null   object \n",
      " 15  Roadwork and Construction Activity  8936 non-null   object \n",
      "dtypes: float64(8), int64(3), object(5)\n",
      "memory usage: 1.1+ MB\n",
      "\n",
      "\n",
      "##### Sample data points from the dataset #####\n"
     ]
    },
    {
     "data": {
      "text/html": [
       "<div>\n",
       "<style scoped>\n",
       "    .dataframe tbody tr th:only-of-type {\n",
       "        vertical-align: middle;\n",
       "    }\n",
       "\n",
       "    .dataframe tbody tr th {\n",
       "        vertical-align: top;\n",
       "    }\n",
       "\n",
       "    .dataframe thead th {\n",
       "        text-align: right;\n",
       "    }\n",
       "</style>\n",
       "<table border=\"1\" class=\"dataframe\">\n",
       "  <thead>\n",
       "    <tr style=\"text-align: right;\">\n",
       "      <th></th>\n",
       "      <th>Date</th>\n",
       "      <th>Area Name</th>\n",
       "      <th>Road/Intersection Name</th>\n",
       "      <th>Traffic Volume</th>\n",
       "      <th>Average Speed</th>\n",
       "      <th>Travel Time Index</th>\n",
       "      <th>Congestion Level</th>\n",
       "      <th>Road Capacity Utilization</th>\n",
       "      <th>Incident Reports</th>\n",
       "      <th>Environmental Impact</th>\n",
       "      <th>Public Transport Usage</th>\n",
       "      <th>Traffic Signal Compliance</th>\n",
       "      <th>Parking Usage</th>\n",
       "      <th>Pedestrian and Cyclist Count</th>\n",
       "      <th>Weather Conditions</th>\n",
       "      <th>Roadwork and Construction Activity</th>\n",
       "    </tr>\n",
       "  </thead>\n",
       "  <tbody>\n",
       "    <tr>\n",
       "      <th>0</th>\n",
       "      <td>2022-01-01</td>\n",
       "      <td>Indiranagar</td>\n",
       "      <td>100 Feet Road</td>\n",
       "      <td>50590</td>\n",
       "      <td>50.230299</td>\n",
       "      <td>1.500000</td>\n",
       "      <td>100.000000</td>\n",
       "      <td>100.000000</td>\n",
       "      <td>0</td>\n",
       "      <td>151.180</td>\n",
       "      <td>70.632330</td>\n",
       "      <td>84.044600</td>\n",
       "      <td>85.403629</td>\n",
       "      <td>111</td>\n",
       "      <td>Clear</td>\n",
       "      <td>No</td>\n",
       "    </tr>\n",
       "    <tr>\n",
       "      <th>1</th>\n",
       "      <td>2022-01-01</td>\n",
       "      <td>Indiranagar</td>\n",
       "      <td>CMH Road</td>\n",
       "      <td>30825</td>\n",
       "      <td>29.377125</td>\n",
       "      <td>1.500000</td>\n",
       "      <td>100.000000</td>\n",
       "      <td>100.000000</td>\n",
       "      <td>1</td>\n",
       "      <td>111.650</td>\n",
       "      <td>41.924899</td>\n",
       "      <td>91.407038</td>\n",
       "      <td>59.983689</td>\n",
       "      <td>100</td>\n",
       "      <td>Clear</td>\n",
       "      <td>No</td>\n",
       "    </tr>\n",
       "    <tr>\n",
       "      <th>2</th>\n",
       "      <td>2022-01-01</td>\n",
       "      <td>Whitefield</td>\n",
       "      <td>Marathahalli Bridge</td>\n",
       "      <td>7399</td>\n",
       "      <td>54.474398</td>\n",
       "      <td>1.039069</td>\n",
       "      <td>28.347994</td>\n",
       "      <td>36.396525</td>\n",
       "      <td>0</td>\n",
       "      <td>64.798</td>\n",
       "      <td>44.662384</td>\n",
       "      <td>61.375541</td>\n",
       "      <td>95.466020</td>\n",
       "      <td>189</td>\n",
       "      <td>Clear</td>\n",
       "      <td>No</td>\n",
       "    </tr>\n",
       "    <tr>\n",
       "      <th>3</th>\n",
       "      <td>2022-01-01</td>\n",
       "      <td>Koramangala</td>\n",
       "      <td>Sony World Junction</td>\n",
       "      <td>60874</td>\n",
       "      <td>43.817610</td>\n",
       "      <td>1.500000</td>\n",
       "      <td>100.000000</td>\n",
       "      <td>100.000000</td>\n",
       "      <td>1</td>\n",
       "      <td>171.748</td>\n",
       "      <td>32.773123</td>\n",
       "      <td>75.547092</td>\n",
       "      <td>63.567452</td>\n",
       "      <td>111</td>\n",
       "      <td>Clear</td>\n",
       "      <td>No</td>\n",
       "    </tr>\n",
       "    <tr>\n",
       "      <th>4</th>\n",
       "      <td>2022-01-01</td>\n",
       "      <td>Koramangala</td>\n",
       "      <td>Sarjapur Road</td>\n",
       "      <td>57292</td>\n",
       "      <td>41.116763</td>\n",
       "      <td>1.500000</td>\n",
       "      <td>100.000000</td>\n",
       "      <td>100.000000</td>\n",
       "      <td>3</td>\n",
       "      <td>164.584</td>\n",
       "      <td>35.092601</td>\n",
       "      <td>64.634762</td>\n",
       "      <td>93.155171</td>\n",
       "      <td>104</td>\n",
       "      <td>Clear</td>\n",
       "      <td>No</td>\n",
       "    </tr>\n",
       "  </tbody>\n",
       "</table>\n",
       "</div>"
      ],
      "text/plain": [
       "         Date    Area Name Road/Intersection Name  Traffic Volume  \\\n",
       "0  2022-01-01  Indiranagar          100 Feet Road           50590   \n",
       "1  2022-01-01  Indiranagar               CMH Road           30825   \n",
       "2  2022-01-01   Whitefield    Marathahalli Bridge            7399   \n",
       "3  2022-01-01  Koramangala    Sony World Junction           60874   \n",
       "4  2022-01-01  Koramangala          Sarjapur Road           57292   \n",
       "\n",
       "   Average Speed  Travel Time Index  Congestion Level  \\\n",
       "0      50.230299           1.500000        100.000000   \n",
       "1      29.377125           1.500000        100.000000   \n",
       "2      54.474398           1.039069         28.347994   \n",
       "3      43.817610           1.500000        100.000000   \n",
       "4      41.116763           1.500000        100.000000   \n",
       "\n",
       "   Road Capacity Utilization  Incident Reports  Environmental Impact  \\\n",
       "0                 100.000000                 0               151.180   \n",
       "1                 100.000000                 1               111.650   \n",
       "2                  36.396525                 0                64.798   \n",
       "3                 100.000000                 1               171.748   \n",
       "4                 100.000000                 3               164.584   \n",
       "\n",
       "   Public Transport Usage  Traffic Signal Compliance  Parking Usage  \\\n",
       "0               70.632330                  84.044600      85.403629   \n",
       "1               41.924899                  91.407038      59.983689   \n",
       "2               44.662384                  61.375541      95.466020   \n",
       "3               32.773123                  75.547092      63.567452   \n",
       "4               35.092601                  64.634762      93.155171   \n",
       "\n",
       "   Pedestrian and Cyclist Count Weather Conditions  \\\n",
       "0                           111              Clear   \n",
       "1                           100              Clear   \n",
       "2                           189              Clear   \n",
       "3                           111              Clear   \n",
       "4                           104              Clear   \n",
       "\n",
       "  Roadwork and Construction Activity  \n",
       "0                                 No  \n",
       "1                                 No  \n",
       "2                                 No  \n",
       "3                                 No  \n",
       "4                                 No  "
      ]
     },
     "execution_count": 146,
     "metadata": {},
     "output_type": "execute_result"
    }
   ],
   "source": [
    "# print info about the data\n",
    "dataSet.info()\n",
    "heading(\"Sample data points from the dataset\")\n",
    "dataSet.head(5)"
   ]
  },
  {
   "cell_type": "code",
   "execution_count": 147,
   "metadata": {},
   "outputs": [
    {
     "name": "stdout",
     "output_type": "stream",
     "text": [
      "\n",
      "\n",
      "##### Stats about non-numeric values #####\n",
      "              Date    Area Name Road/Intersection Name Weather Conditions  \\\n",
      "count         8936         8936                   8936               8936   \n",
      "unique         952            8                     16                  5   \n",
      "top     2023-01-24  Indiranagar          100 Feet Road              Clear   \n",
      "freq            15         1720                    860               5426   \n",
      "\n",
      "       Roadwork and Construction Activity  \n",
      "count                                8936  \n",
      "unique                                  2  \n",
      "top                                    No  \n",
      "freq                                 8054  \n",
      "\n",
      "\n",
      "##### Stats about numeric values #####\n",
      "       Traffic Volume  Average Speed  Travel Time Index  Congestion Level  \\\n",
      "count     8936.000000    8936.000000        8936.000000       8936.000000   \n",
      "mean     29236.048120      39.447427           1.375554         80.818041   \n",
      "std      13001.808801      10.707244           0.165319         23.533182   \n",
      "min       4233.000000      20.000000           1.000039          5.160279   \n",
      "25%      19413.000000      31.775825           1.242459         64.292905   \n",
      "50%      27600.000000      39.199368           1.500000         92.389018   \n",
      "75%      38058.500000      46.644517           1.500000        100.000000   \n",
      "max      72039.000000      89.790843           1.500000        100.000000   \n",
      "\n",
      "       Road Capacity Utilization  Incident Reports  Environmental Impact  \\\n",
      "count                8936.000000       8936.000000           8936.000000   \n",
      "mean                   92.029215          1.570389            108.472096   \n",
      "std                    16.583341          1.420047             26.003618   \n",
      "min                    18.739771          0.000000             58.466000   \n",
      "25%                    97.354990          0.000000             88.826000   \n",
      "50%                   100.000000          1.000000            105.200000   \n",
      "75%                   100.000000          2.000000            126.117000   \n",
      "max                   100.000000         10.000000            194.078000   \n",
      "\n",
      "       Public Transport Usage  Traffic Signal Compliance  Parking Usage  \\\n",
      "count             8936.000000                8936.000000    8936.000000   \n",
      "mean                45.086651                  79.950243      75.155597   \n",
      "std                 20.208460                  11.585006      14.409394   \n",
      "min                 10.006853                  60.003933      50.020411   \n",
      "25%                 27.341191                  69.828270      62.545895   \n",
      "50%                 45.170684                  79.992773      75.317610   \n",
      "75%                 62.426485                  89.957358      87.518589   \n",
      "max                 79.979744                  99.993652      99.995049   \n",
      "\n",
      "       Pedestrian and Cyclist Count  \n",
      "count                   8936.000000  \n",
      "mean                     114.533348  \n",
      "std                       36.812573  \n",
      "min                       66.000000  \n",
      "25%                       94.000000  \n",
      "50%                      102.000000  \n",
      "75%                      111.000000  \n",
      "max                      243.000000  \n"
     ]
    }
   ],
   "source": [
    "# lets find the individual column statistics\n",
    "heading(\"Stats about non-numeric values\")\n",
    "print(dataSet.describe(include = \"object\"))\n",
    "\n",
    "heading(\"Stats about numeric values\")\n",
    "print(dataSet.describe(include = \"number\"))"
   ]
  },
  {
   "cell_type": "code",
   "execution_count": 148,
   "metadata": {},
   "outputs": [
    {
     "name": "stdout",
     "output_type": "stream",
     "text": [
      "\n",
      "\n",
      "##### Target variable \"Traffic volume\" distribution #####\n"
     ]
    },
    {
     "data": {
      "text/plain": [
       "<Axes: xlabel='Traffic Volume', ylabel='Count'>"
      ]
     },
     "execution_count": 148,
     "metadata": {},
     "output_type": "execute_result"
    },
    {
     "data": {
      "image/png": "[encoded data removed]",
      "text/plain": [
       "<Figure size 640x480 with 1 Axes>"
      ]
     },
     "metadata": {},
     "output_type": "display_data"
    }
   ],
   "source": [
    "# lets first verify how to target variable is distributed\n",
    "heading(\"Target variable \\\"Traffic volume\\\" distribution\")\n",
    "sns.histplot(data = dataSet, x = \"Traffic Volume\")"
   ]
  },
  {
   "cell_type": "code",
   "execution_count": 149,
   "metadata": {},
   "outputs": [
    {
     "name": "stdout",
     "output_type": "stream",
     "text": [
      "\n",
      "\n",
      "##### After conversion to numeric values #####\n",
      "   Roadwork and Construction Activity  Weather Conditions  Area Name  \\\n",
      "0                                   0                   0          0   \n",
      "1                                   0                   0          0   \n",
      "2                                   0                   0          1   \n",
      "3                                   0                   0          2   \n",
      "4                                   0                   0          2   \n",
      "\n",
      "   Road/Intersection Name  \n",
      "0                       0  \n",
      "1                       1  \n",
      "2                       2  \n",
      "3                       3  \n",
      "4                       4  \n"
     ]
    }
   ],
   "source": [
    "# lets convert the categorical values to numeric\n",
    "def convert_categorical_to_numeric(dataframe, categorical_cols):\n",
    "    \n",
    "    for col in categorical_cols:\n",
    "        if col in dataframe.columns:\n",
    "            # create a mapping for the unique values in the column\n",
    "            unique_values = dataframe[col].unique()\n",
    "            value_mapping = {label: idx for idx, label in enumerate(unique_values)}\n",
    "            \n",
    "            # apply the mapping to convert to numeric\n",
    "            dataframe[col] = [value_mapping[val] for val in dataframe[col]]\n",
    "    \n",
    "    return dataframe\n",
    "\n",
    "# leaving date column as of now and converting other columns\n",
    "\n",
    "# we will backup the original dataset \n",
    "originalDataset = dataSet.copy()\n",
    "\n",
    "# select the relevant columns and convert them\n",
    "columnsToConvert = [\"Roadwork and Construction Activity\",\"Weather Conditions\",\"Area Name\",\"Road/Intersection Name\"]\n",
    "dataSet = convert_categorical_to_numeric(dataSet, columnsToConvert)\n",
    "\n",
    "heading(\"After conversion to numeric values\")\n",
    "print(dataSet[columnsToConvert].head())"
   ]
  },
  {
   "cell_type": "code",
   "execution_count": 150,
   "metadata": {},
   "outputs": [
    {
     "name": "stdout",
     "output_type": "stream",
     "text": [
      "\n",
      "\n",
      "##### Final dataset columns #####\n",
      "   Area Name  Road/Intersection Name  Traffic Volume  Average Speed  \\\n",
      "0          0                       0           50590      50.230299   \n",
      "1          0                       1           30825      29.377125   \n",
      "2          1                       2            7399      54.474398   \n",
      "3          2                       3           60874      43.817610   \n",
      "4          2                       4           57292      41.116763   \n",
      "\n",
      "   Travel Time Index  Congestion Level  Road Capacity Utilization  \\\n",
      "0           1.500000        100.000000                 100.000000   \n",
      "1           1.500000        100.000000                 100.000000   \n",
      "2           1.039069         28.347994                  36.396525   \n",
      "3           1.500000        100.000000                 100.000000   \n",
      "4           1.500000        100.000000                 100.000000   \n",
      "\n",
      "   Incident Reports  Environmental Impact  Pedestrian and Cyclist Count  \n",
      "0                 0               151.180                           111  \n",
      "1                 1               111.650                           100  \n",
      "2                 0                64.798                           189  \n",
      "3                 1               171.748                           111  \n",
      "4                 3               164.584                           104  \n"
     ]
    }
   ],
   "source": [
    "# drop unrequired columns based on corelation matrix\n",
    "dropThem = [\"Public Transport Usage\", \"Traffic Signal Compliance\", \"Parking Usage\", \"Roadwork and Construction Activity\",\"Weather Conditions\", \"Date\"]\n",
    "dataSet = dataSet.drop(columns=dropThem)\n",
    "\n",
    "heading(\"Final dataset columns\")\n",
    "print(dataSet.head())"
   ]
  },
  {
   "cell_type": "code",
   "execution_count": 151,
   "metadata": {},
   "outputs": [
    {
     "name": "stdout",
     "output_type": "stream",
     "text": [
      "\n",
      "\n",
      "##### Printing X and Y variables for the model #####\n",
      "[[  1.           0.           0.          50.23029856   1.5\n",
      "  100.         100.           0.         151.18       111.        ]\n",
      " [  1.           0.           1.          29.37712471   1.5\n",
      "  100.         100.           1.         111.65       100.        ]\n",
      " [  1.           1.           2.          54.47439821   1.03906885\n",
      "   28.34799386  36.39652494   0.          64.798      189.        ]\n",
      " [  1.           2.           3.          43.81761039   1.5\n",
      "  100.         100.           1.         171.748      111.        ]\n",
      " [  1.           2.           4.          41.11676289   1.5\n",
      "  100.         100.           3.         164.584      104.        ]]\n",
      "[50590. 30825.  7399. 60874. 57292.]\n"
     ]
    }
   ],
   "source": [
    "# seperate the input and target columns into numpy arrays\n",
    "if isinstance(dataSet, pd.DataFrame):\n",
    "    dataSet = dataSet.to_numpy()\n",
    "# print(dataset)\n",
    "X = dataSet[:, [0, 1, 3, 4,5,6,7,8,9]]\n",
    "Y = dataSet[:, 2] \n",
    "\n",
    "# adding extra column for intercepts\n",
    "X = np.hstack((np.ones((X.shape[0], 1)), X))\n",
    "heading(\"Printing X and Y variables for the model\")\n",
    "print(X[:5])\n",
    "print(Y[:5])\n"
   ]
  },
  {
   "cell_type": "code",
   "execution_count": 152,
   "metadata": {},
   "outputs": [
    {
     "name": "stdout",
     "output_type": "stream",
     "text": [
      "Training set samples:  1787\n",
      "Testing set samples:  7149\n"
     ]
    }
   ],
   "source": [
    "# shuffle the datasets\n",
    "indices = np.arange(X.shape[0])\n",
    "np.random.shuffle(indices)\n",
    "# \n",
    "X_shuffled = X[indices]\n",
    "Y_shuffled = Y[indices]\n",
    "\n",
    "# split the dataset into 80:20\n",
    "split_ratio = 0.2\n",
    "split_index = int(len(X_shuffled) * split_ratio)\n",
    "\n",
    "X_train = X_shuffled[:split_index]\n",
    "Y_train = Y_shuffled[:split_index]\n",
    "\n",
    "X_test = X_shuffled[split_index:]\n",
    "Y_test = Y_shuffled[split_index:]\n",
    "\n",
    "print(\"Training set samples: \", X_train.shape[0])\n",
    "print(\"Testing set samples: \", X_test.shape[0])"
   ]
  },
  {
   "cell_type": "code",
   "execution_count": 153,
   "metadata": {},
   "outputs": [],
   "source": [
    "def kmeans(X, k, n_iters=100):\n",
    "    # Randomly initialize centroids\n",
    "    np.random.seed(0)\n",
    "    random_indices = np.random.choice(X.shape[0], k, replace=False)\n",
    "    centroids = X[random_indices]\n",
    "\n",
    "    for _ in range(n_iters):\n",
    "        # Assign clusters\n",
    "        distances = np.linalg.norm(X[:, np.newaxis] - centroids, axis=2)  # Calculate distances\n",
    "        labels = np.argmin(distances, axis=1)  # Assign clusters\n",
    "\n",
    "        # Update centroids\n",
    "        new_centroids = np.array([X[labels == i].mean(axis=0) for i in range(k)])\n",
    "        \n",
    "        # Check for convergence\n",
    "        if np.all(centroids == new_centroids):\n",
    "            break\n",
    "        centroids = new_centroids\n",
    "\n",
    "    # Calculate inertia\n",
    "    inertia = np.sum((X - centroids[labels])**2)\n",
    "    return labels, centroids, inertia\n"
   ]
  },
  {
   "cell_type": "code",
   "execution_count": 154,
   "metadata": {},
   "outputs": [
    {
     "data": {
      "image/png": "[encoded data removed]",
      "text/plain": [
       "<Figure size 1000x600 with 1 Axes>"
      ]
     },
     "metadata": {},
     "output_type": "display_data"
    }
   ],
   "source": [
    "# Calculate inertia for different k values\n",
    "inertia = []\n",
    "k_vals = range(1, 11)  \n",
    "\n",
    "# Testing k from 1 to 10\n",
    "for k in range(1, 11):\n",
    "    _, _, inertia_value = kmeans(X_train, k)\n",
    "    inertia.append(inertia_value)\n",
    "\n",
    "# Plot elbow graph\n",
    "plt.figure(figsize=(10, 6))\n",
    "plt.plot(k_vals, inertia, marker='o')\n",
    "plt.title('Elbow Method for Optimal k')\n",
    "plt.xlabel('Number of Clusters (k)')\n",
    "plt.ylabel('Inertia')\n",
    "plt.xticks(k_vals)\n",
    "plt.grid()\n",
    "plt.show()"
   ]
  },
  {
   "cell_type": "code",
   "execution_count": 155,
   "metadata": {},
   "outputs": [],
   "source": [
    "def addClusters(X,k=3):\n",
    "    labels, _, _ = kmeans(X,k)\n",
    "    labels_v = labels[:,np.newaxis]\n",
    "    return np.hstack((X,labels_v))"
   ]
  },
  {
   "cell_type": "code",
   "execution_count": 136,
   "metadata": {},
   "outputs": [
    {
     "name": "stdout",
     "output_type": "stream",
     "text": [
      "[[  1.           0.           1.          37.37103217   1.5\n",
      "  100.         100.           5.         138.108       96.        ]\n",
      " [  1.           5.          10.          29.35105081   1.22083068\n",
      "   26.56832984  50.91059572   0.          68.428      167.        ]\n",
      " [  1.           3.           5.          22.71256237   1.5\n",
      "  100.         100.           2.         131.066       96.        ]\n",
      " [  1.           1.          13.          56.7650234    1.37401091\n",
      "   75.60291193 100.           3.          92.832      100.        ]\n",
      " [  1.           1.           2.          59.52684493   1.12717384\n",
      "   66.01944166 100.           0.          92.748       93.        ]\n",
      " [  1.           0.           1.          25.92739549   1.5\n",
      "   99.69170703 100.           1.         104.68       106.        ]\n",
      " [  1.           3.           5.          47.65180139   1.3423462\n",
      "   89.44946886 100.           2.          98.53       108.        ]\n",
      " [  1.           2.           4.          24.43964816   1.5\n",
      "  100.         100.           5.         170.822      104.        ]\n",
      " [  1.           7.          15.          30.51524769   1.5\n",
      "  100.         100.           2.         111.576      120.        ]\n",
      " [  1.           6.          11.          47.80546602   1.06341905\n",
      "   76.70233696 100.           3.          95.082      104.        ]]\n"
     ]
    }
   ],
   "source": [
    "# Choosing 3 clusters\n",
    "\n",
    "k_count = 3\n",
    "X_train_clustered = addClusters(X_train,k_count)\n",
    "print(X_train[:10])"
   ]
  },
  {
   "cell_type": "code",
   "execution_count": 137,
   "metadata": {},
   "outputs": [],
   "source": [
    "# for computing gradient descent, we use the the firmula new_weights = old_weights - (alpha*(dJ/dW))\n",
    "# dJ/dW = -2X^T Y + 2X^T XW = 2X^T(XW-Y)\n",
    "\n",
    "def gradient_descent(X, Y, learning_rate=0.01, iterations=1000):\n",
    "    n_samples, n_features = X.shape\n",
    "    \n",
    "    # initialize weights to 0\n",
    "    weights = np.zeros(n_features)\n",
    "    # List to store cost at each iteration for plotting convergence\n",
    "    cost_history = []\n",
    "    \n",
    "    for i in range(iterations):\n",
    "        # Y_pred ->  XW\n",
    "        Y_pred = X @ weights\n",
    "        \n",
    "        # compute the error -> XW-Y\n",
    "        error = Y_pred - Y\n",
    "        \n",
    "        # compute gradient -> dJ/dW\n",
    "        gradient = (2 / n_samples) * (X.T @ error)\n",
    "        \n",
    "        # Update weights\n",
    "        weights -= learning_rate * gradient\n",
    "        \n",
    "        # Compute Mean Squared Error (Cost Function)\n",
    "        cost = (1 / n_samples) * np.sum(error ** 2)\n",
    "\n",
    "        # (Optional) Print cost at intervals\n",
    "        if i % 50 == 0:\n",
    "            print(f\"Iteration {i+1}: Cost {cost}\")\n",
    "            cost_history.append(cost)\n",
    "    \n",
    "    return weights, cost_history"
   ]
  },
  {
   "cell_type": "code",
   "execution_count": 138,
   "metadata": {},
   "outputs": [
    {
     "name": "stdout",
     "output_type": "stream",
     "text": [
      "Iteration 1: Cost 1030863311.8203694\n",
      "Iteration 51: Cost 19209790.29673657\n",
      "Iteration 101: Cost 10397071.409513244\n",
      "Iteration 151: Cost 6208426.660506265\n",
      "Iteration 201: Cost 4160200.239947096\n",
      "Iteration 251: Cost 3123234.7223804705\n",
      "Iteration 301: Cost 2576722.522288622\n",
      "Iteration 351: Cost 2276031.3479443653\n",
      "Iteration 401: Cost 2103414.146862621\n",
      "Iteration 451: Cost 2000404.7585536845\n",
      "Iteration 501: Cost 1936868.659267455\n",
      "Iteration 551: Cost 1896614.8750633015\n",
      "Iteration 601: Cost 1870564.926955068\n",
      "Iteration 651: Cost 1853419.0142903784\n",
      "Iteration 701: Cost 1841972.4034256407\n",
      "Iteration 751: Cost 1834230.8211609973\n",
      "Iteration 801: Cost 1828925.4912570387\n",
      "Iteration 851: Cost 1825235.8847671105\n",
      "Iteration 901: Cost 1822625.0647027805\n",
      "Iteration 951: Cost 1820738.707754144\n",
      "Iteration 1001: Cost 1819341.583840606\n",
      "Iteration 1051: Cost 1818276.8278582876\n",
      "Iteration 1101: Cost 1817439.4618013941\n",
      "Iteration 1151: Cost 1816759.0127123976\n",
      "Iteration 1201: Cost 1816188.0246262492\n",
      "Iteration 1251: Cost 1815694.430766824\n",
      "Iteration 1301: Cost 1815256.4727904287\n",
      "Iteration 1351: Cost 1814859.3091331674\n",
      "Iteration 1401: Cost 1814492.747360092\n",
      "Iteration 1451: Cost 1814149.7262153195\n",
      "\n",
      "\n",
      "##### Training on linear regression with given dataset for 10 iterations #####\n",
      "[ -5.50793759 -28.35978491 -62.70057154 -35.48559764  -5.17234129]\n"
     ]
    }
   ],
   "source": [
    "# we solve the least squares problem using the gradient descent algorithm\n",
    "weights, cost_history = gradient_descent(X_train_clustered,Y_train,0.00002,1500)\n",
    "heading(\"Training on linear regression with given dataset for 10 iterations\")\n",
    "print(weights[:5])"
   ]
  },
  {
   "cell_type": "code",
   "execution_count": 139,
   "metadata": {},
   "outputs": [
    {
     "name": "stdout",
     "output_type": "stream",
     "text": [
      "30\n"
     ]
    },
    {
     "data": {
      "image/png": "[encoded data removed]",
      "text/plain": [
       "<Figure size 1000x600 with 1 Axes>"
      ]
     },
     "metadata": {},
     "output_type": "display_data"
    }
   ],
   "source": [
    "# Plotting the cost history using seaborn\n",
    "print(len(cost_history))\n",
    "plt.figure(figsize=(10,6))\n",
    "sns.lineplot(x=range(len(cost_history)), y=cost_history, color='blue')\n",
    "plt.xlabel('Iterations')\n",
    "plt.ylabel('Cost (MSE)')\n",
    "plt.title('Cost Reduction over Iterations')\n",
    "plt.show()"
   ]
  },
  {
   "cell_type": "code",
   "execution_count": 142,
   "metadata": {},
   "outputs": [
    {
     "name": "stdout",
     "output_type": "stream",
     "text": [
      "[  -5.50793759  -28.35978491  -62.70057154  -35.48559764   -5.17234129\n",
      "   32.00613943 -169.9003675     6.57800689  474.44525049  -62.70168415\n",
      "  -27.76813164]\n",
      "\n",
      "\n",
      "##### Printing the MAPE and first 10 predictions with actual values #####\n",
      "MAPE: 5.554205761949023 %\n",
      "RMSE: 1320.0007845062128 \n",
      "\n",
      "Predicted value: 29692.36974725272 \t Actual value: 29758.0\n",
      "\n",
      "Predicted value: 10951.108997793792 \t Actual value: 11680.0\n",
      "\n",
      "Predicted value: 20796.347250916715 \t Actual value: 20350.0\n",
      "\n",
      "Predicted value: 11571.909192580497 \t Actual value: 11840.0\n",
      "\n",
      "Predicted value: 34793.29390196996 \t Actual value: 33394.0\n",
      "\n",
      "Predicted value: 38864.19583998721 \t Actual value: 40198.0\n",
      "\n",
      "Predicted value: 33412.03555788865 \t Actual value: 34455.0\n",
      "\n",
      "Predicted value: 22039.508470081484 \t Actual value: 22823.0\n",
      "\n",
      "Predicted value: 20959.281868416234 \t Actual value: 21337.0\n",
      "\n",
      "Predicted value: 37827.473477525935 \t Actual value: 37045.0\n"
     ]
    }
   ],
   "source": [
    "# Predicting values with K means clustering over test dataset\n",
    "print(weights)\n",
    "X_test_clustered = addClusters(X_test,k_count)\n",
    "\n",
    "Y_pred = X_test_clustered @ weights\n",
    "\n",
    "# we will use mean absolute percentage error to calculate the error percentage and judge the model\n",
    "MAPE = np.mean(np.abs((Y_test - Y_pred) / Y_test)) * 100\n",
    "RMSE = np.sqrt(np.mean(np.square(Y_test - Y_pred)))\n",
    "\n",
    "heading(\"Printing the MAPE and first 10 predictions with actual values\")\n",
    "print(\"MAPE: {} %\".format(MAPE))\n",
    "print(\"RMSE: {} \".format(RMSE))\n",
    "\n",
    "for i in range(10):\n",
    "    print(\"\\nPredicted value: {0} \\t Actual value: {1}\".format(Y_pred[i], Y_test[i]))"
   ]
  }
 ],
 "metadata": {
  "kernelspec": {
   "display_name": "Python 3",
   "language": "python",
   "name": "python3"
  },
  "language_info": {
   "codemirror_mode": {
    "name": "ipython",
    "version": 3
   },
   "file_extension": ".py",
   "mimetype": "text/x-python",
   "name": "python",
   "nbconvert_exporter": "python",
   "pygments_lexer": "ipython3",
   "version": "3.12.4"
  }
 },
 "nbformat": 4,
 "nbformat_minor": 2
}
