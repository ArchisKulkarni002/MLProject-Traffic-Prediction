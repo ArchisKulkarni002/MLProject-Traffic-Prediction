{
 "cells": [
  {
   "cell_type": "code",
   "execution_count": 1,
   "id": "29a090b3-d408-4cae-a3cb-cba37ace717b",
   "metadata": {},
   "outputs": [],
   "source": [
    "# importing required packages\n",
    "\n",
    "import pandas as pd\n",
    "import numpy as np\n",
    "import seaborn as sns\n",
    "import matplotlib.pyplot as plt\n",
    "%matplotlib inline\n",
    "import warnings\n",
    "warnings.filterwarnings(action = 'ignore')"
   ]
  },
  {
   "cell_type": "code",
   "execution_count": 2,
   "id": "82a73b77-0733-4817-a825-997463aba550",
   "metadata": {},
   "outputs": [],
   "source": [
    "def heading(info):\n",
    "    print(\"\\n\\n##### {} #####\".format(info))"
   ]
  },
  {
   "cell_type": "code",
   "execution_count": 3,
   "id": "a5bbe112-3705-4f6f-b792-81937fca6a6b",
   "metadata": {},
   "outputs": [],
   "source": [
    "# read the dataset\n",
    "dataSet = pd.read_csv('Banglore_traffic_Dataset.csv', encoding = 'unicode_escape')"
   ]
  },
  {
   "cell_type": "code",
   "execution_count": 4,
   "id": "bcbfb0f4-940c-46ae-999b-202063f30cee",
   "metadata": {},
   "outputs": [
    {
     "name": "stdout",
     "output_type": "stream",
     "text": [
      "<class 'pandas.core.frame.DataFrame'>\n",
      "RangeIndex: 8936 entries, 0 to 8935\n",
      "Data columns (total 16 columns):\n",
      " #   Column                              Non-Null Count  Dtype  \n",
      "---  ------                              --------------  -----  \n",
      " 0   Date                                8936 non-null   object \n",
      " 1   Area Name                           8936 non-null   object \n",
      " 2   Road/Intersection Name              8936 non-null   object \n",
      " 3   Traffic Volume                      8936 non-null   int64  \n",
      " 4   Average Speed                       8936 non-null   float64\n",
      " 5   Travel Time Index                   8936 non-null   float64\n",
      " 6   Congestion Level                    8936 non-null   float64\n",
      " 7   Road Capacity Utilization           8936 non-null   float64\n",
      " 8   Incident Reports                    8936 non-null   int64  \n",
      " 9   Environmental Impact                8936 non-null   float64\n",
      " 10  Public Transport Usage              8936 non-null   float64\n",
      " 11  Traffic Signal Compliance           8936 non-null   float64\n",
      " 12  Parking Usage                       8936 non-null   float64\n",
      " 13  Pedestrian and Cyclist Count        8936 non-null   int64  \n",
      " 14  Weather Conditions                  8936 non-null   object \n",
      " 15  Roadwork and Construction Activity  8936 non-null   object \n",
      "dtypes: float64(8), int64(3), object(5)\n",
      "memory usage: 1.1+ MB\n",
      "\n",
      "\n",
      "##### Sample data points from the dataset #####\n"
     ]
    },
    {
     "data": {
      "text/html": [
       "<div>\n",
       "<style scoped>\n",
       "    .dataframe tbody tr th:only-of-type {\n",
       "        vertical-align: middle;\n",
       "    }\n",
       "\n",
       "    .dataframe tbody tr th {\n",
       "        vertical-align: top;\n",
       "    }\n",
       "\n",
       "    .dataframe thead th {\n",
       "        text-align: right;\n",
       "    }\n",
       "</style>\n",
       "<table border=\"1\" class=\"dataframe\">\n",
       "  <thead>\n",
       "    <tr style=\"text-align: right;\">\n",
       "      <th></th>\n",
       "      <th>Date</th>\n",
       "      <th>Area Name</th>\n",
       "      <th>Road/Intersection Name</th>\n",
       "      <th>Traffic Volume</th>\n",
       "      <th>Average Speed</th>\n",
       "      <th>Travel Time Index</th>\n",
       "      <th>Congestion Level</th>\n",
       "      <th>Road Capacity Utilization</th>\n",
       "      <th>Incident Reports</th>\n",
       "      <th>Environmental Impact</th>\n",
       "      <th>Public Transport Usage</th>\n",
       "      <th>Traffic Signal Compliance</th>\n",
       "      <th>Parking Usage</th>\n",
       "      <th>Pedestrian and Cyclist Count</th>\n",
       "      <th>Weather Conditions</th>\n",
       "      <th>Roadwork and Construction Activity</th>\n",
       "    </tr>\n",
       "  </thead>\n",
       "  <tbody>\n",
       "    <tr>\n",
       "      <th>0</th>\n",
       "      <td>2022-01-01</td>\n",
       "      <td>Indiranagar</td>\n",
       "      <td>100 Feet Road</td>\n",
       "      <td>50590</td>\n",
       "      <td>50.230299</td>\n",
       "      <td>1.500000</td>\n",
       "      <td>100.000000</td>\n",
       "      <td>100.000000</td>\n",
       "      <td>0</td>\n",
       "      <td>151.180</td>\n",
       "      <td>70.632330</td>\n",
       "      <td>84.044600</td>\n",
       "      <td>85.403629</td>\n",
       "      <td>111</td>\n",
       "      <td>Clear</td>\n",
       "      <td>No</td>\n",
       "    </tr>\n",
       "    <tr>\n",
       "      <th>1</th>\n",
       "      <td>2022-01-01</td>\n",
       "      <td>Indiranagar</td>\n",
       "      <td>CMH Road</td>\n",
       "      <td>30825</td>\n",
       "      <td>29.377125</td>\n",
       "      <td>1.500000</td>\n",
       "      <td>100.000000</td>\n",
       "      <td>100.000000</td>\n",
       "      <td>1</td>\n",
       "      <td>111.650</td>\n",
       "      <td>41.924899</td>\n",
       "      <td>91.407038</td>\n",
       "      <td>59.983689</td>\n",
       "      <td>100</td>\n",
       "      <td>Clear</td>\n",
       "      <td>No</td>\n",
       "    </tr>\n",
       "    <tr>\n",
       "      <th>2</th>\n",
       "      <td>2022-01-01</td>\n",
       "      <td>Whitefield</td>\n",
       "      <td>Marathahalli Bridge</td>\n",
       "      <td>7399</td>\n",
       "      <td>54.474398</td>\n",
       "      <td>1.039069</td>\n",
       "      <td>28.347994</td>\n",
       "      <td>36.396525</td>\n",
       "      <td>0</td>\n",
       "      <td>64.798</td>\n",
       "      <td>44.662384</td>\n",
       "      <td>61.375541</td>\n",
       "      <td>95.466020</td>\n",
       "      <td>189</td>\n",
       "      <td>Clear</td>\n",
       "      <td>No</td>\n",
       "    </tr>\n",
       "    <tr>\n",
       "      <th>3</th>\n",
       "      <td>2022-01-01</td>\n",
       "      <td>Koramangala</td>\n",
       "      <td>Sony World Junction</td>\n",
       "      <td>60874</td>\n",
       "      <td>43.817610</td>\n",
       "      <td>1.500000</td>\n",
       "      <td>100.000000</td>\n",
       "      <td>100.000000</td>\n",
       "      <td>1</td>\n",
       "      <td>171.748</td>\n",
       "      <td>32.773123</td>\n",
       "      <td>75.547092</td>\n",
       "      <td>63.567452</td>\n",
       "      <td>111</td>\n",
       "      <td>Clear</td>\n",
       "      <td>No</td>\n",
       "    </tr>\n",
       "    <tr>\n",
       "      <th>4</th>\n",
       "      <td>2022-01-01</td>\n",
       "      <td>Koramangala</td>\n",
       "      <td>Sarjapur Road</td>\n",
       "      <td>57292</td>\n",
       "      <td>41.116763</td>\n",
       "      <td>1.500000</td>\n",
       "      <td>100.000000</td>\n",
       "      <td>100.000000</td>\n",
       "      <td>3</td>\n",
       "      <td>164.584</td>\n",
       "      <td>35.092601</td>\n",
       "      <td>64.634762</td>\n",
       "      <td>93.155171</td>\n",
       "      <td>104</td>\n",
       "      <td>Clear</td>\n",
       "      <td>No</td>\n",
       "    </tr>\n",
       "  </tbody>\n",
       "</table>\n",
       "</div>"
      ],
      "text/plain": [
       "         Date    Area Name Road/Intersection Name  Traffic Volume  \\\n",
       "0  2022-01-01  Indiranagar          100 Feet Road           50590   \n",
       "1  2022-01-01  Indiranagar               CMH Road           30825   \n",
       "2  2022-01-01   Whitefield    Marathahalli Bridge            7399   \n",
       "3  2022-01-01  Koramangala    Sony World Junction           60874   \n",
       "4  2022-01-01  Koramangala          Sarjapur Road           57292   \n",
       "\n",
       "   Average Speed  Travel Time Index  Congestion Level  \\\n",
       "0      50.230299           1.500000        100.000000   \n",
       "1      29.377125           1.500000        100.000000   \n",
       "2      54.474398           1.039069         28.347994   \n",
       "3      43.817610           1.500000        100.000000   \n",
       "4      41.116763           1.500000        100.000000   \n",
       "\n",
       "   Road Capacity Utilization  Incident Reports  Environmental Impact  \\\n",
       "0                 100.000000                 0               151.180   \n",
       "1                 100.000000                 1               111.650   \n",
       "2                  36.396525                 0                64.798   \n",
       "3                 100.000000                 1               171.748   \n",
       "4                 100.000000                 3               164.584   \n",
       "\n",
       "   Public Transport Usage  Traffic Signal Compliance  Parking Usage  \\\n",
       "0               70.632330                  84.044600      85.403629   \n",
       "1               41.924899                  91.407038      59.983689   \n",
       "2               44.662384                  61.375541      95.466020   \n",
       "3               32.773123                  75.547092      63.567452   \n",
       "4               35.092601                  64.634762      93.155171   \n",
       "\n",
       "   Pedestrian and Cyclist Count Weather Conditions  \\\n",
       "0                           111              Clear   \n",
       "1                           100              Clear   \n",
       "2                           189              Clear   \n",
       "3                           111              Clear   \n",
       "4                           104              Clear   \n",
       "\n",
       "  Roadwork and Construction Activity  \n",
       "0                                 No  \n",
       "1                                 No  \n",
       "2                                 No  \n",
       "3                                 No  \n",
       "4                                 No  "
      ]
     },
     "execution_count": 4,
     "metadata": {},
     "output_type": "execute_result"
    }
   ],
   "source": [
    "# print info about the data\n",
    "dataSet.info()\n",
    "heading(\"Sample data points from the dataset\")\n",
    "dataSet.head(5)"
   ]
  },
  {
   "cell_type": "code",
   "execution_count": 5,
   "id": "699871c1-20dc-4fe9-a4fe-cccfa807c0b7",
   "metadata": {},
   "outputs": [
    {
     "name": "stdout",
     "output_type": "stream",
     "text": [
      "\n",
      "\n",
      "##### Stats about non-numeric values #####\n",
      "              Date    Area Name Road/Intersection Name Weather Conditions  \\\n",
      "count         8936         8936                   8936               8936   \n",
      "unique         952            8                     16                  5   \n",
      "top     2023-01-24  Indiranagar          100 Feet Road              Clear   \n",
      "freq            15         1720                    860               5426   \n",
      "\n",
      "       Roadwork and Construction Activity  \n",
      "count                                8936  \n",
      "unique                                  2  \n",
      "top                                    No  \n",
      "freq                                 8054  \n",
      "\n",
      "\n",
      "##### Stats about numeric values #####\n",
      "       Traffic Volume  Average Speed  Travel Time Index  Congestion Level  \\\n",
      "count     8936.000000    8936.000000        8936.000000       8936.000000   \n",
      "mean     29236.048120      39.447427           1.375554         80.818041   \n",
      "std      13001.808801      10.707244           0.165319         23.533182   \n",
      "min       4233.000000      20.000000           1.000039          5.160279   \n",
      "25%      19413.000000      31.775825           1.242459         64.292905   \n",
      "50%      27600.000000      39.199368           1.500000         92.389018   \n",
      "75%      38058.500000      46.644517           1.500000        100.000000   \n",
      "max      72039.000000      89.790843           1.500000        100.000000   \n",
      "\n",
      "       Road Capacity Utilization  Incident Reports  Environmental Impact  \\\n",
      "count                8936.000000       8936.000000           8936.000000   \n",
      "mean                   92.029215          1.570389            108.472096   \n",
      "std                    16.583341          1.420047             26.003618   \n",
      "min                    18.739771          0.000000             58.466000   \n",
      "25%                    97.354990          0.000000             88.826000   \n",
      "50%                   100.000000          1.000000            105.200000   \n",
      "75%                   100.000000          2.000000            126.117000   \n",
      "max                   100.000000         10.000000            194.078000   \n",
      "\n",
      "       Public Transport Usage  Traffic Signal Compliance  Parking Usage  \\\n",
      "count             8936.000000                8936.000000    8936.000000   \n",
      "mean                45.086651                  79.950243      75.155597   \n",
      "std                 20.208460                  11.585006      14.409394   \n",
      "min                 10.006853                  60.003933      50.020411   \n",
      "25%                 27.341191                  69.828270      62.545895   \n",
      "50%                 45.170684                  79.992773      75.317610   \n",
      "75%                 62.426485                  89.957358      87.518589   \n",
      "max                 79.979744                  99.993652      99.995049   \n",
      "\n",
      "       Pedestrian and Cyclist Count  \n",
      "count                   8936.000000  \n",
      "mean                     114.533348  \n",
      "std                       36.812573  \n",
      "min                       66.000000  \n",
      "25%                       94.000000  \n",
      "50%                      102.000000  \n",
      "75%                      111.000000  \n",
      "max                      243.000000  \n"
     ]
    }
   ],
   "source": [
    "# lets find the individual column statistics\n",
    "heading(\"Stats about non-numeric values\")\n",
    "print(dataSet.describe(include = \"object\"))\n",
    "\n",
    "heading(\"Stats about numeric values\")\n",
    "print(dataSet.describe(include = \"number\"))"
   ]
  },
  {
   "cell_type": "code",
   "execution_count": 6,
   "id": "0790be42-933e-4cd4-8553-3b57a3463999",
   "metadata": {},
   "outputs": [
    {
     "name": "stdout",
     "output_type": "stream",
     "text": [
      "\n",
      "\n",
      "##### Target variable \"Traffic volume\" distribution #####\n"
     ]
    },
    {
     "data": {
      "text/plain": [
       "<Axes: xlabel='Traffic Volume', ylabel='Count'>"
      ]
     },
     "execution_count": 6,
     "metadata": {},
     "output_type": "execute_result"
    },
    {
     "data": {
      "image/png": "[encoded data removed]",
      "text/plain": [
       "<Figure size 640x480 with 1 Axes>"
      ]
     },
     "metadata": {},
     "output_type": "display_data"
    }
   ],
   "source": [
    "# lets first verify how to target variable is distributed\n",
    "heading(\"Target variable \\\"Traffic volume\\\" distribution\")\n",
    "sns.histplot(data = dataSet, x = \"Traffic Volume\")"
   ]
  },
  {
   "cell_type": "code",
   "execution_count": 7,
   "id": "875984e3-69b9-49ce-8822-586739b83933",
   "metadata": {},
   "outputs": [
    {
     "name": "stdout",
     "output_type": "stream",
     "text": [
      "\n",
      "\n",
      "##### After conversion to numeric values #####\n",
      "   Roadwork and Construction Activity  Weather Conditions  Area Name  \\\n",
      "0                                   0                   0          0   \n",
      "1                                   0                   0          0   \n",
      "2                                   0                   0          1   \n",
      "3                                   0                   0          2   \n",
      "4                                   0                   0          2   \n",
      "\n",
      "   Road/Intersection Name  \n",
      "0                       0  \n",
      "1                       1  \n",
      "2                       2  \n",
      "3                       3  \n",
      "4                       4  \n"
     ]
    }
   ],
   "source": [
    "# lets convert the categorical values to numeric\n",
    "def convert_categorical_to_numeric(dataframe, categorical_cols):\n",
    "    \n",
    "    for col in categorical_cols:\n",
    "        if col in dataframe.columns:\n",
    "            # create a mapping for the unique values in the column\n",
    "            unique_values = dataframe[col].unique()\n",
    "            value_mapping = {label: idx for idx, label in enumerate(unique_values)}\n",
    "            \n",
    "            # apply the mapping to convert to numeric\n",
    "            dataframe[col] = [value_mapping[val] for val in dataframe[col]]\n",
    "    \n",
    "    return dataframe\n",
    "\n",
    "# leaving date column as of now and converting other columns\n",
    "\n",
    "# we will backup the original dataset \n",
    "originalDataset = dataSet.copy()\n",
    "\n",
    "# select the relevant columns and convert them\n",
    "columnsToConvert = [\"Roadwork and Construction Activity\",\"Weather Conditions\",\"Area Name\",\"Road/Intersection Name\"]\n",
    "dataSet = convert_categorical_to_numeric(dataSet, columnsToConvert)\n",
    "\n",
    "heading(\"After conversion to numeric values\")\n",
    "print(dataSet[columnsToConvert].head())"
   ]
  },
  {
   "cell_type": "code",
   "execution_count": 8,
   "id": "e95dc66f-d73f-46d9-85f8-5a48a627fcf2",
   "metadata": {},
   "outputs": [
    {
     "name": "stdout",
     "output_type": "stream",
     "text": [
      "\n",
      "\n",
      "##### Final dataset columns #####\n",
      "   Area Name  Road/Intersection Name  Traffic Volume  Average Speed  \\\n",
      "0          0                       0           50590      50.230299   \n",
      "1          0                       1           30825      29.377125   \n",
      "2          1                       2            7399      54.474398   \n",
      "3          2                       3           60874      43.817610   \n",
      "4          2                       4           57292      41.116763   \n",
      "\n",
      "   Travel Time Index  Congestion Level  Road Capacity Utilization  \\\n",
      "0           1.500000        100.000000                 100.000000   \n",
      "1           1.500000        100.000000                 100.000000   \n",
      "2           1.039069         28.347994                  36.396525   \n",
      "3           1.500000        100.000000                 100.000000   \n",
      "4           1.500000        100.000000                 100.000000   \n",
      "\n",
      "   Incident Reports  Environmental Impact  Pedestrian and Cyclist Count  \n",
      "0                 0               151.180                           111  \n",
      "1                 1               111.650                           100  \n",
      "2                 0                64.798                           189  \n",
      "3                 1               171.748                           111  \n",
      "4                 3               164.584                           104  \n"
     ]
    }
   ],
   "source": [
    "# drop unrequired columns based on corelation matrix\n",
    "dropThem = [\"Public Transport Usage\", \"Traffic Signal Compliance\", \"Parking Usage\", \"Roadwork and Construction Activity\",\"Weather Conditions\", \"Date\"]\n",
    "dataSet = dataSet.drop(columns=dropThem)\n",
    "\n",
    "heading(\"Final dataset columns\")\n",
    "print(dataSet.head())"
   ]
  },
  {
   "cell_type": "code",
   "execution_count": 9,
   "id": "248d52bb-992a-4181-bf43-2a52297460b8",
   "metadata": {},
   "outputs": [
    {
     "name": "stdout",
     "output_type": "stream",
     "text": [
      "\n",
      "\n",
      "##### Printing X and Y variables for the model #####\n",
      "[[  1.           0.           0.          50.23029856   1.5\n",
      "  100.         100.           0.         151.18       111.        ]\n",
      " [  1.           0.           1.          29.37712471   1.5\n",
      "  100.         100.           1.         111.65       100.        ]\n",
      " [  1.           1.           2.          54.47439821   1.03906885\n",
      "   28.34799386  36.39652494   0.          64.798      189.        ]\n",
      " [  1.           2.           3.          43.81761039   1.5\n",
      "  100.         100.           1.         171.748      111.        ]\n",
      " [  1.           2.           4.          41.11676289   1.5\n",
      "  100.         100.           3.         164.584      104.        ]]\n",
      "[50590. 30825.  7399. 60874. 57292.]\n"
     ]
    }
   ],
   "source": [
    "# seperate the input and target columns into numpy arrays\n",
    "if isinstance(dataSet, pd.DataFrame):\n",
    "    dataSet = dataSet.to_numpy()\n",
    "# print(dataset)\n",
    "X = dataSet[:, [0, 1, 3, 4,5,6,7,8,9]]\n",
    "Y = dataSet[:, 2] \n",
    "\n",
    "# adding extra column for intercepts\n",
    "X = np.hstack((np.ones((X.shape[0], 1)), X))\n",
    "heading(\"Printing X and Y variables for the model\")\n",
    "print(X[:5])\n",
    "print(Y[:5])\n"
   ]
  },
  {
   "cell_type": "code",
   "execution_count": 10,
   "id": "6e755983-b49e-4c3c-99ce-62777f13674b",
   "metadata": {},
   "outputs": [],
   "source": [
    "# shuffle the datasets\n",
    "indices = np.arange(X.shape[0])\n",
    "np.random.shuffle(indices)\n",
    "# \n",
    "X_shuffled = X[indices]\n",
    "Y_shuffled = Y[indices]\n"
   ]
  },
  {
   "cell_type": "code",
   "execution_count": 51,
   "id": "9c302628-0e28-4015-8025-c6e7617deeb1",
   "metadata": {},
   "outputs": [],
   "source": [
    "# we normalize our dataset\n",
    "\n",
    "# we use standadization for input variables, since they are of different scales\n",
    "# standardization helps set the mean to 0 and std dev to 1. \n",
    "intercept_column = X_shuffled[:, 0]\n",
    "features = X_shuffled[:, 1:]\n",
    "\n",
    "X_mean = np.mean(features, axis=0)\n",
    "X_std = np.std(features, axis=0)\n",
    "\n",
    "# Normalize features\n",
    "X_norm_temp = (features - X_mean) / X_std\n",
    "X_norm = np.column_stack((intercept_column, X_norm_temp))\n",
    "\n",
    "# we use min max normaliztion for the output variable, since it is in fixed range\n",
    "# also, standardization may yeild negative values which may not be as intuitive and useful\n",
    "Y_mean = np.mean(Y, axis=0)\n",
    "Y_std = np.std(Y, axis=0)\n",
    "\n",
    "# Normalize features\n",
    "Y_norm = (Y - Y_mean) / Y_std"
   ]
  },
  {
   "cell_type": "code",
   "execution_count": 52,
   "id": "3769622e-b83b-4250-a23f-283efbcff3e8",
   "metadata": {},
   "outputs": [
    {
     "name": "stdout",
     "output_type": "stream",
     "text": [
      "Training set samples size:  7148\n",
      "Testing set samples size:  1788\n",
      "Training set samples:  [[ 1.          0.04836864 -0.26557885  0.02128209  0.75280715  0.24821485\n",
      "   0.48067702  1.00679106 -0.11130214 -0.80230743]\n",
      " [ 1.          1.45017025  1.34415839 -1.71512087  0.75280715  0.10720851\n",
      "   0.48067702  1.00679106 -0.26690458 -0.367649  ]\n",
      " [ 1.         -1.35343297 -1.1854287   0.19467748  0.75280715  0.81514828\n",
      "   0.48067702  0.30254958  0.5155688   0.2571725 ]\n",
      " [ 1.         -0.41889856 -0.49554131 -0.08728923  0.75280715 -0.07569069\n",
      "   0.48067702  0.30254958 -0.2093709  -0.85663973]\n",
      " [ 1.         -0.41889856 -0.49554131 -0.19078515  0.75280715  0.81514828\n",
      "   0.48067702 -1.10593338  2.68684974 -0.58497821]]\n",
      "Testing set samples:  [ 1.64247507  0.1222169  -1.67963323  2.4334862   2.15797065]\n"
     ]
    }
   ],
   "source": [
    "# split the dataset into 80:20\n",
    "split_ratio = 0.8\n",
    "split_index = int(len(X_shuffled) * split_ratio)\n",
    "\n",
    "X_train = X_norm[:split_index]\n",
    "Y_train = Y_norm[:split_index]\n",
    "\n",
    "X_test = X_norm[split_index:]\n",
    "Y_test = Y_norm[split_index:]\n",
    "\n",
    "print(\"Training set samples size: \", X_train.shape[0])\n",
    "print(\"Testing set samples size: \", X_test.shape[0])\n",
    "\n",
    "print(\"Training set samples: \", X_train[:5])\n",
    "print(\"Testing set samples: \", Y_train[:5])"
   ]
  },
  {
   "cell_type": "code",
   "execution_count": 14,
   "id": "78c1dc2b-fd72-4896-80bd-3e479269a8b8",
   "metadata": {},
   "outputs": [],
   "source": [
    "# for computing gradient descent, we use the the firmula new_weights = old_weights - (alpha*(dJ/dW))\n",
    "# dJ/dW = -2X^T Y + 2X^T XW = 2X^T(XW-Y)\n",
    "\n",
    "def gradient_descent(X, Y, learning_rate=0.01, iterations=1000):\n",
    "    n_samples, n_features = X.shape\n",
    "    \n",
    "    # initialize weights to 0\n",
    "    weights = np.zeros(n_features)\n",
    "    # List to store cost at each iteration for plotting convergence\n",
    "    cost_history = []\n",
    "    \n",
    "    for i in range(iterations):\n",
    "        # Y_pred ->  XW\n",
    "        Y_pred = X @ weights\n",
    "        \n",
    "        # compute the error -> XW-Y\n",
    "        error = Y_pred - Y\n",
    "        \n",
    "        # compute gradient -> dJ/dW\n",
    "        gradient = (2 / n_samples) * (X.T @ error)\n",
    "        \n",
    "        # Update weights\n",
    "        weights -= learning_rate * gradient\n",
    "        \n",
    "        # Compute Mean Squared Error (Cost Function)\n",
    "        cost = (1 / n_samples) * np.sum(error ** 2)\n",
    "\n",
    "        # (Optional) Print cost at intervals\n",
    "        if i % 100 == 0:\n",
    "            print(f\"Iteration {i+1}: Cost {cost}\")\n",
    "            cost_history.append(cost)\n",
    "    \n",
    "    return weights, cost_history"
   ]
  },
  {
   "cell_type": "code",
   "execution_count": 53,
   "id": "d2a2af5d-aff2-49a3-881d-6167798c44cb",
   "metadata": {},
   "outputs": [
    {
     "name": "stdout",
     "output_type": "stream",
     "text": [
      "Iteration 1: Cost 1.0058789972297144\n",
      "Iteration 101: Cost 1.0055618354936058\n",
      "Iteration 201: Cost 1.0053717892832736\n",
      "Iteration 301: Cost 1.00525286244398\n",
      "Iteration 401: Cost 1.0051758584899608\n",
      "Iteration 501: Cost 1.0051243583142127\n",
      "Iteration 601: Cost 1.0050887906626236\n",
      "Iteration 701: Cost 1.0050634375887553\n",
      "Iteration 801: Cost 1.0050448055961916\n",
      "Iteration 901: Cost 1.0050307110732033\n",
      "\n",
      "\n",
      "##### Training on linear regression with given dataset for 10 iterations #####\n",
      "[-0.00095118 -0.01178282 -0.00496025 -0.00288539  0.0097668 ]\n"
     ]
    }
   ],
   "source": [
    "# we solve the least squares problem using the gradient descent algorithm\n",
    "weights, cost_history = gradient_descent(X_train,Y_train,0.001,1000)\n",
    "heading(\"Training on linear regression with given dataset for 10 iterations\")\n",
    "print(weights[:5])"
   ]
  },
  {
   "cell_type": "code",
   "execution_count": 54,
   "id": "922891fb-a835-4160-a927-5d24d9f7d36a",
   "metadata": {},
   "outputs": [
    {
     "name": "stdout",
     "output_type": "stream",
     "text": [
      "10\n"
     ]
    },
    {
     "data": {
      "image/png": "[encoded data removed]",
      "text/plain": [
       "<Figure size 1000x600 with 1 Axes>"
      ]
     },
     "metadata": {},
     "output_type": "display_data"
    }
   ],
   "source": [
    "# Plotting the cost history using seaborn\n",
    "print(len(cost_history))\n",
    "plt.figure(figsize=(10,6))\n",
    "sns.lineplot(x=range(len(cost_history)), y=cost_history, color='blue')\n",
    "plt.xlabel('Iterations')\n",
    "plt.ylabel('Cost (MSE)')\n",
    "plt.title('Cost Reduction over Iterations')\n",
    "plt.show()"
   ]
  },
  {
   "cell_type": "code",
   "execution_count": 55,
   "id": "f2272050-50a3-46f6-ac89-3a24647db0fc",
   "metadata": {},
   "outputs": [
    {
     "name": "stdout",
     "output_type": "stream",
     "text": [
      "\n",
      "\n",
      "##### Printing the MAPE and first 10 predictions with actual values #####\n",
      "MAPE: 122.30130594733592 %\n",
      "\n",
      "Predicted value: 3679.6432858302405 \t Actual value: 121209.23281130972\n",
      "\n",
      "Predicted value: 5585.336562480137 \t Actual value: 41512.516569267915\n",
      "\n",
      "Predicted value: 3698.216084324862 \t Actual value: 69195.92536533871\n",
      "\n",
      "Predicted value: 2982.143481763548 \t Actual value: 7335.919387532437\n",
      "\n",
      "Predicted value: 4736.852285421046 \t Actual value: -91318.82077570705\n",
      "\n",
      "Predicted value: 4082.9982391017124 \t Actual value: -13118.927880400806\n",
      "\n",
      "Predicted value: 4828.154413149682 \t Actual value: 48480.30747950729\n",
      "\n",
      "Predicted value: 5036.244663356076 \t Actual value: -8930.951756956036\n",
      "\n",
      "Predicted value: 2461.1596393063037 \t Actual value: 26299.158721088093\n",
      "\n",
      "Predicted value: 5116.241278381785 \t Actual value: -5207.147333370025\n"
     ]
    }
   ],
   "source": [
    "# lets predict values\n",
    "Y_pred = X_test @ weights\n",
    "# we denormalize the predictions and actual testing data\n",
    "Y_pred_original = (Y_pred * Y_std) + Y_mean\n",
    "Y_test_denorm = (Y_test_norm * Y_std) + Y_mean\n",
    "\n",
    "# we will use mean absolute percentage error to calculate the error percentage and judge the model\n",
    "MAPE = np.mean(np.abs((Y_test_denorm - Y_pred_original) / Y_test_denorm)) * 100\n",
    "\n",
    "heading(\"Printing the MAPE and first 10 predictions with actual values\")\n",
    "print(\"MAPE: {} %\".format(MAPE))\n",
    "for i in range(10):\n",
    "    print(\"\\nPredicted value: {0} \\t Actual value: {1}\".format(Y_pred_original[i], Y_test_denorm[i]))"
   ]
  }
 ],
 "metadata": {
  "kernelspec": {
   "display_name": "Python 3 (ipykernel)",
   "language": "python",
   "name": "python3"
  },
  "language_info": {
   "codemirror_mode": {
    "name": "ipython",
    "version": 3
   },
   "file_extension": ".py",
   "mimetype": "text/x-python",
   "name": "python",
   "nbconvert_exporter": "python",
   "pygments_lexer": "ipython3",
   "version": "3.11.4"
  }
 },
 "nbformat": 4,
 "nbformat_minor": 5
}
